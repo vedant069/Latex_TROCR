{
  "nbformat": 4,
  "nbformat_minor": 0,
  "metadata": {
    "colab": {
      "provenance": [],
      "gpuType": "T4"
    },
    "kernelspec": {
      "name": "python3",
      "display_name": "Python 3"
    },
    "language_info": {
      "name": "python"
    },
    "accelerator": "GPU"
  },
  "cells": [
    {
      "cell_type": "code",
      "execution_count": 1,
      "metadata": {
        "colab": {
          "base_uri": "https://localhost:8080/"
        },
        "id": "BjJdzU2drrRv",
        "outputId": "f879c67d-a219-4118-bac6-dae4f7cc7bfb"
      },
      "outputs": [
        {
          "output_type": "stream",
          "name": "stdout",
          "text": [
            "\u001b[2K   \u001b[90m━━━━━━━━━━━━━━━━━━━━━━━━━━━━━━━━━━━━━━━━\u001b[0m \u001b[32m3.1/3.1 MB\u001b[0m \u001b[31m54.1 MB/s\u001b[0m eta \u001b[36m0:00:00\u001b[0m\n",
            "\u001b[2K   \u001b[90m━━━━━━━━━━━━━━━━━━━━━━━━━━━━━━━━━━━━━━━━\u001b[0m \u001b[32m480.6/480.6 kB\u001b[0m \u001b[31m14.6 MB/s\u001b[0m eta \u001b[36m0:00:00\u001b[0m\n",
            "\u001b[2K   \u001b[90m━━━━━━━━━━━━━━━━━━━━━━━━━━━━━━━━━━━━━━━━\u001b[0m \u001b[32m116.3/116.3 kB\u001b[0m \u001b[31m12.0 MB/s\u001b[0m eta \u001b[36m0:00:00\u001b[0m\n",
            "\u001b[2K   \u001b[90m━━━━━━━━━━━━━━━━━━━━━━━━━━━━━━━━━━━━━━━━\u001b[0m \u001b[32m179.3/179.3 kB\u001b[0m \u001b[31m16.5 MB/s\u001b[0m eta \u001b[36m0:00:00\u001b[0m\n",
            "\u001b[2K   \u001b[90m━━━━━━━━━━━━━━━━━━━━━━━━━━━━━━━━━━━━━━━━\u001b[0m \u001b[32m134.8/134.8 kB\u001b[0m \u001b[31m13.7 MB/s\u001b[0m eta \u001b[36m0:00:00\u001b[0m\n",
            "\u001b[2K   \u001b[90m━━━━━━━━━━━━━━━━━━━━━━━━━━━━━━━━━━━━━━━━\u001b[0m \u001b[32m194.1/194.1 kB\u001b[0m \u001b[31m18.6 MB/s\u001b[0m eta \u001b[36m0:00:00\u001b[0m\n",
            "\u001b[?25h\u001b[31mERROR: pip's dependency resolver does not currently take into account all the packages that are installed. This behaviour is the source of the following dependency conflicts.\n",
            "gcsfs 2024.10.0 requires fsspec==2024.10.0, but you have fsspec 2024.9.0 which is incompatible.\u001b[0m\u001b[31m\n",
            "\u001b[2K   \u001b[90m━━━━━━━━━━━━━━━━━━━━━━━━━━━━━━━━━━━━━━━━\u001b[0m \u001b[32m84.0/84.0 kB\u001b[0m \u001b[31m3.3 MB/s\u001b[0m eta \u001b[36m0:00:00\u001b[0m\n",
            "\u001b[2K   \u001b[90m━━━━━━━━━━━━━━━━━━━━━━━━━━━━━━━━━━━━━━━━\u001b[0m \u001b[32m1.1/1.1 MB\u001b[0m \u001b[31m18.0 MB/s\u001b[0m eta \u001b[36m0:00:00\u001b[0m\n",
            "\u001b[?25h\u001b[31mERROR: pip's dependency resolver does not currently take into account all the packages that are installed. This behaviour is the source of the following dependency conflicts.\n",
            "google-ai-generativelanguage 0.6.10 requires protobuf!=4.21.0,!=4.21.1,!=4.21.2,!=4.21.3,!=4.21.4,!=4.21.5,<6.0.0dev,>=3.20.2, but you have protobuf 3.20.1 which is incompatible.\n",
            "google-api-core 2.19.2 requires protobuf!=3.20.0,!=3.20.1,!=4.21.0,!=4.21.1,!=4.21.2,!=4.21.3,!=4.21.4,!=4.21.5,<6.0.0.dev0,>=3.19.5, but you have protobuf 3.20.1 which is incompatible.\n",
            "google-cloud-aiplatform 1.71.1 requires protobuf!=4.21.0,!=4.21.1,!=4.21.2,!=4.21.3,!=4.21.4,!=4.21.5,<6.0.0dev,>=3.20.2, but you have protobuf 3.20.1 which is incompatible.\n",
            "google-cloud-bigquery-connection 1.16.1 requires protobuf!=4.21.0,!=4.21.1,!=4.21.2,!=4.21.3,!=4.21.4,!=4.21.5,<6.0.0dev,>=3.20.2, but you have protobuf 3.20.1 which is incompatible.\n",
            "google-cloud-bigquery-storage 2.27.0 requires protobuf!=3.20.0,!=3.20.1,!=4.21.0,!=4.21.1,!=4.21.2,!=4.21.3,!=4.21.4,!=4.21.5,<6.0.0dev,>=3.20.2, but you have protobuf 3.20.1 which is incompatible.\n",
            "google-cloud-bigtable 2.27.0 requires protobuf!=4.21.0,!=4.21.1,!=4.21.2,!=4.21.3,!=4.21.4,!=4.21.5,<6.0.0dev,>=3.20.2, but you have protobuf 3.20.1 which is incompatible.\n",
            "google-cloud-datastore 2.20.1 requires protobuf!=3.20.0,!=3.20.1,!=4.21.0,!=4.21.1,!=4.21.2,!=4.21.3,!=4.21.4,!=4.21.5,<6.0.0dev,>=3.20.2, but you have protobuf 3.20.1 which is incompatible.\n",
            "google-cloud-firestore 2.19.0 requires protobuf!=3.20.0,!=3.20.1,!=4.21.0,!=4.21.1,!=4.21.2,!=4.21.3,!=4.21.4,!=4.21.5,<6.0.0dev,>=3.20.2, but you have protobuf 3.20.1 which is incompatible.\n",
            "google-cloud-functions 1.18.1 requires protobuf!=4.21.0,!=4.21.1,!=4.21.2,!=4.21.3,!=4.21.4,!=4.21.5,<6.0.0dev,>=3.20.2, but you have protobuf 3.20.1 which is incompatible.\n",
            "google-cloud-iam 2.16.1 requires protobuf!=4.21.0,!=4.21.1,!=4.21.2,!=4.21.3,!=4.21.4,!=4.21.5,<6.0.0dev,>=3.20.2, but you have protobuf 3.20.1 which is incompatible.\n",
            "google-cloud-language 2.15.1 requires protobuf!=4.21.0,!=4.21.1,!=4.21.2,!=4.21.3,!=4.21.4,!=4.21.5,<6.0.0dev,>=3.20.2, but you have protobuf 3.20.1 which is incompatible.\n",
            "google-cloud-pubsub 2.27.1 requires protobuf!=4.21.0,!=4.21.1,!=4.21.2,!=4.21.3,!=4.21.4,!=4.21.5,<6.0.0dev,>=3.20.2, but you have protobuf 3.20.1 which is incompatible.\n",
            "google-cloud-resource-manager 1.13.1 requires protobuf!=4.21.0,!=4.21.1,!=4.21.2,!=4.21.3,!=4.21.4,!=4.21.5,<6.0.0dev,>=3.20.2, but you have protobuf 3.20.1 which is incompatible.\n",
            "google-cloud-translate 3.17.0 requires protobuf!=4.21.0,!=4.21.1,!=4.21.2,!=4.21.3,!=4.21.4,!=4.21.5,<6.0.0dev,>=3.20.2, but you have protobuf 3.20.1 which is incompatible.\n",
            "googleapis-common-protos 1.66.0 requires protobuf!=3.20.0,!=3.20.1,!=4.21.1,!=4.21.2,!=4.21.3,!=4.21.4,!=4.21.5,<6.0.0.dev0,>=3.20.2, but you have protobuf 3.20.1 which is incompatible.\n",
            "grpc-google-iam-v1 0.13.1 requires protobuf!=4.21.1,!=4.21.2,!=4.21.3,!=4.21.4,!=4.21.5,<6.0.0dev,>=3.20.2, but you have protobuf 3.20.1 which is incompatible.\n",
            "grpcio-status 1.62.3 requires protobuf>=4.21.6, but you have protobuf 3.20.1 which is incompatible.\n",
            "tensorflow 2.17.1 requires protobuf!=4.21.0,!=4.21.1,!=4.21.2,!=4.21.3,!=4.21.4,!=4.21.5,<5.0.0dev,>=3.20.3, but you have protobuf 3.20.1 which is incompatible.\n",
            "tensorflow-metadata 1.13.1 requires protobuf<5,>=3.20.3, but you have protobuf 3.20.1 which is incompatible.\u001b[0m\u001b[31m\n",
            "\u001b[0mRequirement already satisfied: datasets in /usr/local/lib/python3.10/dist-packages (3.1.0)\n",
            "Requirement already satisfied: filelock in /usr/local/lib/python3.10/dist-packages (from datasets) (3.16.1)\n",
            "Requirement already satisfied: numpy>=1.17 in /usr/local/lib/python3.10/dist-packages (from datasets) (1.26.4)\n",
            "Requirement already satisfied: pyarrow>=15.0.0 in /usr/local/lib/python3.10/dist-packages (from datasets) (17.0.0)\n",
            "Requirement already satisfied: dill<0.3.9,>=0.3.0 in /usr/local/lib/python3.10/dist-packages (from datasets) (0.3.8)\n",
            "Requirement already satisfied: pandas in /usr/local/lib/python3.10/dist-packages (from datasets) (2.2.2)\n",
            "Requirement already satisfied: requests>=2.32.2 in /usr/local/lib/python3.10/dist-packages (from datasets) (2.32.3)\n",
            "Requirement already satisfied: tqdm>=4.66.3 in /usr/local/lib/python3.10/dist-packages (from datasets) (4.66.6)\n",
            "Requirement already satisfied: xxhash in /usr/local/lib/python3.10/dist-packages (from datasets) (3.5.0)\n",
            "Requirement already satisfied: multiprocess<0.70.17 in /usr/local/lib/python3.10/dist-packages (from datasets) (0.70.16)\n",
            "Requirement already satisfied: fsspec<=2024.9.0,>=2023.1.0 in /usr/local/lib/python3.10/dist-packages (from fsspec[http]<=2024.9.0,>=2023.1.0->datasets) (2024.9.0)\n",
            "Requirement already satisfied: aiohttp in /usr/local/lib/python3.10/dist-packages (from datasets) (3.11.2)\n",
            "Requirement already satisfied: huggingface-hub>=0.23.0 in /usr/local/lib/python3.10/dist-packages (from datasets) (0.26.2)\n",
            "Requirement already satisfied: packaging in /usr/local/lib/python3.10/dist-packages (from datasets) (24.2)\n",
            "Requirement already satisfied: pyyaml>=5.1 in /usr/local/lib/python3.10/dist-packages (from datasets) (6.0.2)\n",
            "Requirement already satisfied: aiohappyeyeballs>=2.3.0 in /usr/local/lib/python3.10/dist-packages (from aiohttp->datasets) (2.4.3)\n",
            "Requirement already satisfied: aiosignal>=1.1.2 in /usr/local/lib/python3.10/dist-packages (from aiohttp->datasets) (1.3.1)\n",
            "Requirement already satisfied: attrs>=17.3.0 in /usr/local/lib/python3.10/dist-packages (from aiohttp->datasets) (24.2.0)\n",
            "Requirement already satisfied: frozenlist>=1.1.1 in /usr/local/lib/python3.10/dist-packages (from aiohttp->datasets) (1.5.0)\n",
            "Requirement already satisfied: multidict<7.0,>=4.5 in /usr/local/lib/python3.10/dist-packages (from aiohttp->datasets) (6.1.0)\n",
            "Requirement already satisfied: propcache>=0.2.0 in /usr/local/lib/python3.10/dist-packages (from aiohttp->datasets) (0.2.0)\n",
            "Requirement already satisfied: yarl<2.0,>=1.17.0 in /usr/local/lib/python3.10/dist-packages (from aiohttp->datasets) (1.17.2)\n",
            "Requirement already satisfied: async-timeout<6.0,>=4.0 in /usr/local/lib/python3.10/dist-packages (from aiohttp->datasets) (4.0.3)\n",
            "Requirement already satisfied: typing-extensions>=3.7.4.3 in /usr/local/lib/python3.10/dist-packages (from huggingface-hub>=0.23.0->datasets) (4.12.2)\n",
            "Requirement already satisfied: charset-normalizer<4,>=2 in /usr/local/lib/python3.10/dist-packages (from requests>=2.32.2->datasets) (3.4.0)\n",
            "Requirement already satisfied: idna<4,>=2.5 in /usr/local/lib/python3.10/dist-packages (from requests>=2.32.2->datasets) (3.10)\n",
            "Requirement already satisfied: urllib3<3,>=1.21.1 in /usr/local/lib/python3.10/dist-packages (from requests>=2.32.2->datasets) (2.2.3)\n",
            "Requirement already satisfied: certifi>=2017.4.17 in /usr/local/lib/python3.10/dist-packages (from requests>=2.32.2->datasets) (2024.8.30)\n",
            "Requirement already satisfied: python-dateutil>=2.8.2 in /usr/local/lib/python3.10/dist-packages (from pandas->datasets) (2.8.2)\n",
            "Requirement already satisfied: pytz>=2020.1 in /usr/local/lib/python3.10/dist-packages (from pandas->datasets) (2024.2)\n",
            "Requirement already satisfied: tzdata>=2022.7 in /usr/local/lib/python3.10/dist-packages (from pandas->datasets) (2024.2)\n",
            "Requirement already satisfied: six>=1.5 in /usr/local/lib/python3.10/dist-packages (from python-dateutil>=2.8.2->pandas->datasets) (1.16.0)\n"
          ]
        }
      ],
      "source": [
        "!pip install -q transformers\n",
        "!pip install -q sentencepiece\n",
        "!pip install -q jiwer\n",
        "!pip install -q datasets\n",
        "!pip install -q evaluate\n",
        "!pip install -q -U accelerate\n",
        "\n",
        "\n",
        "!pip install -q matplotlib\n",
        "!pip install -q protobuf==3.20.1\n",
        "!pip install -q tensorboard\n",
        "!pip install datasets"
      ]
    },
    {
      "cell_type": "code",
      "source": [
        "import os\n",
        "import os\n",
        "import torch\n",
        "import evaluate\n",
        "import numpy as np\n",
        "import pandas as pd\n",
        "import glob as glob\n",
        "import torch.optim as optim\n",
        "import matplotlib.pyplot as plt\n",
        "import torchvision.transforms as transforms\n",
        "\n",
        "\n",
        "from PIL import Image\n",
        "from zipfile import ZipFile\n",
        "from tqdm.notebook import tqdm\n",
        "from dataclasses import dataclass\n",
        "from torch.utils.data import Dataset\n",
        "from urllib.request import urlretrieve\n",
        "from transformers import (\n",
        "    VisionEncoderDecoderModel,\n",
        "    TrOCRProcessor,\n",
        "    Seq2SeqTrainer,\n",
        "    Seq2SeqTrainingArguments,\n",
        "    default_data_collator\n",
        ")"
      ],
      "metadata": {
        "id": "04XsX4e_sTz4"
      },
      "execution_count": 2,
      "outputs": []
    },
    {
      "cell_type": "code",
      "source": [
        "def seed_everything(seed_value):\n",
        "    np.random.seed(seed_value)\n",
        "    torch.manual_seed(seed_value)\n",
        "    torch.cuda.manual_seed_all(seed_value)\n",
        "    torch.backends.cudnn.deterministic = True\n",
        "    torch.backends.cudnn.benchmark = False\n",
        "\n",
        "seed_everything(42)\n",
        "\n",
        "device = torch.device('cuda' if torch.cuda.is_available() else 'cpu')"
      ],
      "metadata": {
        "id": "ZB7OtFh0sT2g"
      },
      "execution_count": 3,
      "outputs": []
    },
    {
      "cell_type": "code",
      "source": [
        "from google.colab import files\n",
        "\n",
        "# Upload kaggle.json\n",
        "files.upload()\n"
      ],
      "metadata": {
        "id": "e5bpSyvwx1BG",
        "outputId": "18ea4cea-b763-4d67-a35e-6995fd8951de",
        "colab": {
          "base_uri": "https://localhost:8080/",
          "height": 89
        }
      },
      "execution_count": 4,
      "outputs": [
        {
          "output_type": "display_data",
          "data": {
            "text/plain": [
              "<IPython.core.display.HTML object>"
            ],
            "text/html": [
              "\n",
              "     <input type=\"file\" id=\"files-4733c6f6-e98a-48a5-bfb0-a06ea27934ff\" name=\"files[]\" multiple disabled\n",
              "        style=\"border:none\" />\n",
              "     <output id=\"result-4733c6f6-e98a-48a5-bfb0-a06ea27934ff\">\n",
              "      Upload widget is only available when the cell has been executed in the\n",
              "      current browser session. Please rerun this cell to enable.\n",
              "      </output>\n",
              "      <script>// Copyright 2017 Google LLC\n",
              "//\n",
              "// Licensed under the Apache License, Version 2.0 (the \"License\");\n",
              "// you may not use this file except in compliance with the License.\n",
              "// You may obtain a copy of the License at\n",
              "//\n",
              "//      http://www.apache.org/licenses/LICENSE-2.0\n",
              "//\n",
              "// Unless required by applicable law or agreed to in writing, software\n",
              "// distributed under the License is distributed on an \"AS IS\" BASIS,\n",
              "// WITHOUT WARRANTIES OR CONDITIONS OF ANY KIND, either express or implied.\n",
              "// See the License for the specific language governing permissions and\n",
              "// limitations under the License.\n",
              "\n",
              "/**\n",
              " * @fileoverview Helpers for google.colab Python module.\n",
              " */\n",
              "(function(scope) {\n",
              "function span(text, styleAttributes = {}) {\n",
              "  const element = document.createElement('span');\n",
              "  element.textContent = text;\n",
              "  for (const key of Object.keys(styleAttributes)) {\n",
              "    element.style[key] = styleAttributes[key];\n",
              "  }\n",
              "  return element;\n",
              "}\n",
              "\n",
              "// Max number of bytes which will be uploaded at a time.\n",
              "const MAX_PAYLOAD_SIZE = 100 * 1024;\n",
              "\n",
              "function _uploadFiles(inputId, outputId) {\n",
              "  const steps = uploadFilesStep(inputId, outputId);\n",
              "  const outputElement = document.getElementById(outputId);\n",
              "  // Cache steps on the outputElement to make it available for the next call\n",
              "  // to uploadFilesContinue from Python.\n",
              "  outputElement.steps = steps;\n",
              "\n",
              "  return _uploadFilesContinue(outputId);\n",
              "}\n",
              "\n",
              "// This is roughly an async generator (not supported in the browser yet),\n",
              "// where there are multiple asynchronous steps and the Python side is going\n",
              "// to poll for completion of each step.\n",
              "// This uses a Promise to block the python side on completion of each step,\n",
              "// then passes the result of the previous step as the input to the next step.\n",
              "function _uploadFilesContinue(outputId) {\n",
              "  const outputElement = document.getElementById(outputId);\n",
              "  const steps = outputElement.steps;\n",
              "\n",
              "  const next = steps.next(outputElement.lastPromiseValue);\n",
              "  return Promise.resolve(next.value.promise).then((value) => {\n",
              "    // Cache the last promise value to make it available to the next\n",
              "    // step of the generator.\n",
              "    outputElement.lastPromiseValue = value;\n",
              "    return next.value.response;\n",
              "  });\n",
              "}\n",
              "\n",
              "/**\n",
              " * Generator function which is called between each async step of the upload\n",
              " * process.\n",
              " * @param {string} inputId Element ID of the input file picker element.\n",
              " * @param {string} outputId Element ID of the output display.\n",
              " * @return {!Iterable<!Object>} Iterable of next steps.\n",
              " */\n",
              "function* uploadFilesStep(inputId, outputId) {\n",
              "  const inputElement = document.getElementById(inputId);\n",
              "  inputElement.disabled = false;\n",
              "\n",
              "  const outputElement = document.getElementById(outputId);\n",
              "  outputElement.innerHTML = '';\n",
              "\n",
              "  const pickedPromise = new Promise((resolve) => {\n",
              "    inputElement.addEventListener('change', (e) => {\n",
              "      resolve(e.target.files);\n",
              "    });\n",
              "  });\n",
              "\n",
              "  const cancel = document.createElement('button');\n",
              "  inputElement.parentElement.appendChild(cancel);\n",
              "  cancel.textContent = 'Cancel upload';\n",
              "  const cancelPromise = new Promise((resolve) => {\n",
              "    cancel.onclick = () => {\n",
              "      resolve(null);\n",
              "    };\n",
              "  });\n",
              "\n",
              "  // Wait for the user to pick the files.\n",
              "  const files = yield {\n",
              "    promise: Promise.race([pickedPromise, cancelPromise]),\n",
              "    response: {\n",
              "      action: 'starting',\n",
              "    }\n",
              "  };\n",
              "\n",
              "  cancel.remove();\n",
              "\n",
              "  // Disable the input element since further picks are not allowed.\n",
              "  inputElement.disabled = true;\n",
              "\n",
              "  if (!files) {\n",
              "    return {\n",
              "      response: {\n",
              "        action: 'complete',\n",
              "      }\n",
              "    };\n",
              "  }\n",
              "\n",
              "  for (const file of files) {\n",
              "    const li = document.createElement('li');\n",
              "    li.append(span(file.name, {fontWeight: 'bold'}));\n",
              "    li.append(span(\n",
              "        `(${file.type || 'n/a'}) - ${file.size} bytes, ` +\n",
              "        `last modified: ${\n",
              "            file.lastModifiedDate ? file.lastModifiedDate.toLocaleDateString() :\n",
              "                                    'n/a'} - `));\n",
              "    const percent = span('0% done');\n",
              "    li.appendChild(percent);\n",
              "\n",
              "    outputElement.appendChild(li);\n",
              "\n",
              "    const fileDataPromise = new Promise((resolve) => {\n",
              "      const reader = new FileReader();\n",
              "      reader.onload = (e) => {\n",
              "        resolve(e.target.result);\n",
              "      };\n",
              "      reader.readAsArrayBuffer(file);\n",
              "    });\n",
              "    // Wait for the data to be ready.\n",
              "    let fileData = yield {\n",
              "      promise: fileDataPromise,\n",
              "      response: {\n",
              "        action: 'continue',\n",
              "      }\n",
              "    };\n",
              "\n",
              "    // Use a chunked sending to avoid message size limits. See b/62115660.\n",
              "    let position = 0;\n",
              "    do {\n",
              "      const length = Math.min(fileData.byteLength - position, MAX_PAYLOAD_SIZE);\n",
              "      const chunk = new Uint8Array(fileData, position, length);\n",
              "      position += length;\n",
              "\n",
              "      const base64 = btoa(String.fromCharCode.apply(null, chunk));\n",
              "      yield {\n",
              "        response: {\n",
              "          action: 'append',\n",
              "          file: file.name,\n",
              "          data: base64,\n",
              "        },\n",
              "      };\n",
              "\n",
              "      let percentDone = fileData.byteLength === 0 ?\n",
              "          100 :\n",
              "          Math.round((position / fileData.byteLength) * 100);\n",
              "      percent.textContent = `${percentDone}% done`;\n",
              "\n",
              "    } while (position < fileData.byteLength);\n",
              "  }\n",
              "\n",
              "  // All done.\n",
              "  yield {\n",
              "    response: {\n",
              "      action: 'complete',\n",
              "    }\n",
              "  };\n",
              "}\n",
              "\n",
              "scope.google = scope.google || {};\n",
              "scope.google.colab = scope.google.colab || {};\n",
              "scope.google.colab._files = {\n",
              "  _uploadFiles,\n",
              "  _uploadFilesContinue,\n",
              "};\n",
              "})(self);\n",
              "</script> "
            ]
          },
          "metadata": {}
        },
        {
          "output_type": "stream",
          "name": "stdout",
          "text": [
            "Saving kaggle.json to kaggle.json\n"
          ]
        },
        {
          "output_type": "execute_result",
          "data": {
            "text/plain": [
              "{'kaggle.json': b'{\"username\":\"nothingsdfghjkl\",\"key\":\"91176d07c3805656a0351e5871ce7ea6\"}'}"
            ]
          },
          "metadata": {},
          "execution_count": 4
        }
      ]
    },
    {
      "cell_type": "code",
      "source": [
        "!mkdir -p /root/.config/kaggle\n",
        "!mv kaggle.json /root/.config/kaggle/\n",
        "!chmod 600 /root/.config/kaggle/kaggle.json\n"
      ],
      "metadata": {
        "id": "TZs4bJ6ztIWK"
      },
      "execution_count": 5,
      "outputs": []
    },
    {
      "cell_type": "code",
      "source": [
        "import os\n",
        "import pandas as pd  # Optional, depending on dataset format\n",
        "import kaggle\n",
        "from zipfile import ZipFile\n",
        "\n",
        "# Ensure you have your Kaggle API key set up in ~/.kaggle/kaggle.json\n",
        "\n",
        "# Define the Kaggle dataset identifier\n",
        "kaggle_dataset = \"shahrukhkhan/im2latex100k\"\n",
        "output_dir = \"./im2latex100k\"\n",
        "\n",
        "# Download the Kaggle dataset\n",
        "print(f\"Downloading the dataset '{kaggle_dataset}' from Kaggle...\")\n",
        "kaggle.api.dataset_download_files(kaggle_dataset, path=output_dir, unzip=True)\n",
        "\n",
        "print(f\"Dataset downloaded and unzipped in '{output_dir}'.\")\n",
        "\n",
        "# Assuming the dataset contains image-label pairs\n",
        "train_data_path = os.path.join(output_dir, \"train.csv\")  # Update based on the dataset structure\n",
        "val_data_path = os.path.join(output_dir, \"val.csv\")      # Update as necessary\n",
        "test_data_path = os.path.join(output_dir, \"test.csv\")    # Update as necessary\n",
        "\n",
        "# Load the dataset (modify this part depending on the actual file format)\n",
        "print(\"Loading dataset splits...\")\n",
        "\n",
        "# Check existence of splits\n",
        "train_data = pd.read_csv(train_data_path) if os.path.exists(train_data_path) else None\n",
        "val_data = pd.read_csv(val_data_path) if os.path.exists(val_data_path) else None\n",
        "test_data = pd.read_csv(test_data_path) if os.path.exists(test_data_path) else None\n",
        "\n",
        "# Display dataset information\n",
        "print(\"Dataset loaded successfully.\")\n",
        "if train_data is not None:\n",
        "    print(f\"Train samples: {len(train_data)}\")\n",
        "if val_data is not None:\n",
        "    print(f\"Validation samples: {len(val_data)}\")\n",
        "if test_data is not None:\n",
        "    print(f\"Test samples: {len(test_data)}\")\n"
      ],
      "metadata": {
        "colab": {
          "base_uri": "https://localhost:8080/"
        },
        "id": "ntyzoJwUsT4k",
        "outputId": "4522cf61-3495-4bde-d8b3-46024882cd43"
      },
      "execution_count": 6,
      "outputs": [
        {
          "output_type": "stream",
          "name": "stdout",
          "text": [
            "Downloading the dataset 'shahrukhkhan/im2latex100k' from Kaggle...\n",
            "Dataset URL: https://www.kaggle.com/datasets/shahrukhkhan/im2latex100k\n",
            "Dataset downloaded and unzipped in './im2latex100k'.\n",
            "Loading dataset splits...\n",
            "Dataset loaded successfully.\n"
          ]
        }
      ]
    },
    {
      "cell_type": "code",
      "source": [
        "import os\n",
        "dataset_dir = \"./im2latex100k\"\n",
        "print(\"Files in dataset directory:\", os.listdir(dataset_dir))\n"
      ],
      "metadata": {
        "colab": {
          "base_uri": "https://localhost:8080/"
        },
        "id": "wyspTh6TsieL",
        "outputId": "9558ce30-684a-472e-d3d8-5a49f665c53d"
      },
      "execution_count": 7,
      "outputs": [
        {
          "output_type": "stream",
          "name": "stdout",
          "text": [
            "Files in dataset directory: ['im2latex_formulas.norm.csv', 'im2latex_test.csv', 'im2latex_validate.csv', 'im2latex_train.csv', 'formula_images_processed']\n"
          ]
        }
      ]
    },
    {
      "cell_type": "code",
      "source": [
        "import pandas as pd\n",
        "\n",
        "train_file = os.path.join(dataset_dir, \"im2latex_train.csv\")  # Update with actual file name\n",
        "test_file = os.path.join(dataset_dir, \"im2latex_test.csv\")    # Update with actual file name\n",
        "\n",
        "# Load data\n",
        "train_data = pd.read_csv(train_file)\n",
        "test_data = pd.read_csv(test_file)\n",
        "\n",
        "# Display first examples\n",
        "print(\"Training dataset sample:\")\n",
        "print(train_data.iloc[0])  # First row in the training data\n",
        "\n",
        "print(\"\\nTesting dataset sample:\")\n",
        "print(test_data.iloc[0])  # First row in the testing data\n"
      ],
      "metadata": {
        "colab": {
          "base_uri": "https://localhost:8080/"
        },
        "id": "LD4Lx8iC1ZY7",
        "outputId": "03253b75-395b-4067-cbf9-5e13ac2baa06"
      },
      "execution_count": 8,
      "outputs": [
        {
          "output_type": "stream",
          "name": "stdout",
          "text": [
            "Training dataset sample:\n",
            "formula    \\widetilde \\gamma _ { \\mathrm { h o p f } } \\s...\n",
            "image                                         66667cee5b.png\n",
            "Name: 0, dtype: object\n",
            "\n",
            "Testing dataset sample:\n",
            "formula    \\alpha _ { 1 } ^ { r } \\gamma _ { 1 } + \\dots ...\n",
            "image                                         7944775fc9.png\n",
            "Name: 0, dtype: object\n"
          ]
        }
      ]
    },
    {
      "cell_type": "code",
      "source": [
        "# Convert train and test datasets to list of dictionaries\n",
        "train_list = train_data.to_dict(orient='records')\n",
        "test_list = test_data.to_dict(orient='records')\n",
        "\n",
        "# Access the file names using the correct column name ('image')\n",
        "train_file_names = [example['image'] for example in train_list[:5]]  # Access the 'image' column\n",
        "print(\"Train file names:\", train_file_names)\n",
        "\n",
        "test_file_names = [example['image'] for example in test_list[:5]]  # Access the 'image' column\n",
        "print(\"Test file names:\", test_file_names)\n"
      ],
      "metadata": {
        "colab": {
          "base_uri": "https://localhost:8080/"
        },
        "id": "UNxu8uVj1uTU",
        "outputId": "51b1b773-d2ec-4a0d-8d0d-bcc0d341f77d"
      },
      "execution_count": 9,
      "outputs": [
        {
          "output_type": "stream",
          "name": "stdout",
          "text": [
            "Train file names: ['66667cee5b.png', '1cbb05a562.png', 'ed164cc822.png', 'e265f9dc6b.png', '242a58bc3a.png']\n",
            "Test file names: ['7944775fc9.png', '78228211ca.png', '15b9034ba8.png', '6968dfca15.png', '6cead0df53.png']\n"
          ]
        }
      ]
    },
    {
      "cell_type": "code",
      "source": [
        "# root_train_dir = './images/'  # Path to your images directory\n",
        "# root_test_dir = './images/'   # Same for test images\n"
      ],
      "metadata": {
        "id": "pl2ZqNDZ2AK3"
      },
      "execution_count": null,
      "outputs": []
    },
    {
      "cell_type": "code",
      "source": [
        "from dataclasses import dataclass\n",
        "\n",
        "@dataclass(frozen=True)\n",
        "class TrainingConfig:\n",
        "    BATCH_SIZE:    int = 40  # Adjust batch size based on GPU memory\n",
        "    EPOCHS:        int = 3  # Number of epochs\n",
        "    LEARNING_RATE: float = 0.005  # Learning rate\n",
        "\n",
        "@dataclass(frozen=True)\n",
        "class DatasetConfig:\n",
        "    # Update DATA_ROOT to reflect the new dataset\n",
        "    DATA_ROOT: str = 'im2latex-100k'\n",
        "\n",
        "@dataclass(frozen=True)\n",
        "class ModelConfig:\n",
        "    # Specify the model to fine-tune\n",
        "    MODEL_NAME: str = \"microsoft/trocr-base-printed\"\n"
      ],
      "metadata": {
        "id": "vU92rcNYsUCI"
      },
      "execution_count": 10,
      "outputs": []
    },
    {
      "cell_type": "code",
      "source": [
        "import matplotlib.pyplot as plt\n",
        "import os\n",
        "from PIL import Image\n",
        "\n",
        "def visualize(dataframe, dataset_dir, num_images=15):\n",
        "    \"\"\"\n",
        "    Visualizes a subset of images from the dataset.\n",
        "\n",
        "    Args:\n",
        "        dataframe: The pandas DataFrame containing image paths and formulas.\n",
        "        dataset_dir: The root directory containing the image files.\n",
        "        num_images: Number of images to visualize.\n",
        "    \"\"\"\n",
        "    plt.figure(figsize=(15, 3))\n",
        "\n",
        "    # Select a subset of rows\n",
        "    samples = dataframe.sample(n=num_images, random_state=42)\n",
        "\n",
        "    for i, (_, sample) in enumerate(samples.iterrows()):\n",
        "        plt.subplot(3, 5, i + 1)\n",
        "        image_path = os.path.join(dataset_dir, sample['image'])  # Access image file path\n",
        "        try:\n",
        "            image = Image.open(image_path)  # Open the image using PIL\n",
        "            plt.imshow(image, cmap='gray')  # Use grayscale if applicable\n",
        "        except Exception as e:\n",
        "            print(f\"Error loading image {image_path}: {e}\")\n",
        "            continue\n",
        "        plt.axis('off')\n",
        "        plt.title(f\"Sample {i+1}\", fontsize=8)  # Optional: show sample index or modify title\n",
        "\n",
        "    plt.tight_layout()\n",
        "    plt.show()\n",
        "\n",
        "# Assuming train_df is your training DataFrame and images are in \"images\" subfolder\n",
        "dataset_dir = \"/content/im2latex100k/formula_images_processed/formula_images_processed\"  # Update with your actual dataset directory\n",
        "visualize(train_data, dataset_dir)\n"
      ],
      "metadata": {
        "colab": {
          "base_uri": "https://localhost:8080/",
          "height": 282
        },
        "id": "vYkoDJ-csUE0",
        "outputId": "88e90e7c-6b7b-4abc-b0c5-bb4995230d0f"
      },
      "execution_count": 11,
      "outputs": [
        {
          "output_type": "display_data",
          "data": {
            "text/plain": [
              "<Figure size 1500x300 with 15 Axes>"
            ],
            "image/png": "[encoded data removed]"
          },
          "metadata": {}
        }
      ]
    },
    {
      "cell_type": "code",
      "source": [
        "# import pandas as pd\n",
        "\n",
        "# # Prepare training dataset\n",
        "# train_df = pd.DataFrame({\n",
        "#     'file_name': dataset['train']['filename'],  # Assuming 'filename' contains image filenames or paths\n",
        "#     'text': kaggle_dataset['train']['formula']  # 'formula' contains the LaTeX expression\n",
        "# })\n",
        "\n",
        "# # Prepare testing dataset\n",
        "# test_df = pd.DataFrame({\n",
        "#     'file_name': kaggle_dataset['test']['filename'],  # Assuming 'filename' contains image filenames or paths\n",
        "#     'text': kaggle_dataset['test']['formula']  # 'formula' contains the LaTeX expression\n",
        "# })\n",
        "\n",
        "# # Display dataset samples\n",
        "# print(\"Training Dataset Sample:\")\n",
        "# print(train_data.head())\n",
        "\n",
        "# print(\"Testing Dataset Sample:\")\n",
        "# print(test_data.head())\n"
      ],
      "metadata": {
        "id": "w_Kj3TuKsUHS"
      },
      "execution_count": 12,
      "outputs": []
    },
    {
      "cell_type": "code",
      "source": [
        "train_data.head()"
      ],
      "metadata": {
        "colab": {
          "base_uri": "https://localhost:8080/",
          "height": 206
        },
        "id": "_pTuUnqNsUJq",
        "outputId": "78932763-c06d-4630-9ae3-2e10f36d8ce8"
      },
      "execution_count": 13,
      "outputs": [
        {
          "output_type": "execute_result",
          "data": {
            "text/plain": [
              "                                             formula           image\n",
              "0  \\widetilde \\gamma _ { \\mathrm { h o p f } } \\s...  66667cee5b.png\n",
              "1  ( { \\cal L } _ { a } g ) _ { i j } = 0 , \\ \\ \\...  1cbb05a562.png\n",
              "2  S _ { s t a t } = 2 \\pi \\sqrt { N _ { 5 } ^ { ...  ed164cc822.png\n",
              "3  \\hat { N } _ { 3 } = \\sum \\sp f _ { j = 1 } a ...  e265f9dc6b.png\n",
              "4  \\, ^ { * } d \\, ^ { * } H = \\kappa \\, ^ { * } ...  242a58bc3a.png"
            ],
            "text/html": [
              "\n",
              "  <div id=\"df-ebc1b132-370e-4ece-b77f-c43fc3427183\" class=\"colab-df-container\">\n",
              "    <div>\n",
              "<style scoped>\n",
              "    .dataframe tbody tr th:only-of-type {\n",
              "        vertical-align: middle;\n",
              "    }\n",
              "\n",
              "    .dataframe tbody tr th {\n",
              "        vertical-align: top;\n",
              "    }\n",
              "\n",
              "    .dataframe thead th {\n",
              "        text-align: right;\n",
              "    }\n",
              "</style>\n",
              "<table border=\"1\" class=\"dataframe\">\n",
              "  <thead>\n",
              "    <tr style=\"text-align: right;\">\n",
              "      <th></th>\n",
              "      <th>formula</th>\n",
              "      <th>image</th>\n",
              "    </tr>\n",
              "  </thead>\n",
              "  <tbody>\n",
              "    <tr>\n",
              "      <th>0</th>\n",
              "      <td>\\widetilde \\gamma _ { \\mathrm { h o p f } } \\s...</td>\n",
              "      <td>66667cee5b.png</td>\n",
              "    </tr>\n",
              "    <tr>\n",
              "      <th>1</th>\n",
              "      <td>( { \\cal L } _ { a } g ) _ { i j } = 0 , \\ \\ \\...</td>\n",
              "      <td>1cbb05a562.png</td>\n",
              "    </tr>\n",
              "    <tr>\n",
              "      <th>2</th>\n",
              "      <td>S _ { s t a t } = 2 \\pi \\sqrt { N _ { 5 } ^ { ...</td>\n",
              "      <td>ed164cc822.png</td>\n",
              "    </tr>\n",
              "    <tr>\n",
              "      <th>3</th>\n",
              "      <td>\\hat { N } _ { 3 } = \\sum \\sp f _ { j = 1 } a ...</td>\n",
              "      <td>e265f9dc6b.png</td>\n",
              "    </tr>\n",
              "    <tr>\n",
              "      <th>4</th>\n",
              "      <td>\\, ^ { * } d \\, ^ { * } H = \\kappa \\, ^ { * } ...</td>\n",
              "      <td>242a58bc3a.png</td>\n",
              "    </tr>\n",
              "  </tbody>\n",
              "</table>\n",
              "</div>\n",
              "    <div class=\"colab-df-buttons\">\n",
              "\n",
              "  <div class=\"colab-df-container\">\n",
              "    <button class=\"colab-df-convert\" onclick=\"convertToInteractive('df-ebc1b132-370e-4ece-b77f-c43fc3427183')\"\n",
              "            title=\"Convert this dataframe to an interactive table.\"\n",
              "            style=\"display:none;\">\n",
              "\n",
              "  <svg xmlns=\"http://www.w3.org/2000/svg\" height=\"24px\" viewBox=\"0 -960 960 960\">\n",
              "    <path d=\"M120-120v-720h720v720H120Zm60-500h600v-160H180v160Zm220 220h160v-160H400v160Zm0 220h160v-160H400v160ZM180-400h160v-160H180v160Zm440 0h160v-160H620v160ZM180-180h160v-160H180v160Zm440 0h160v-160H620v160Z\"/>\n",
              "  </svg>\n",
              "    </button>\n",
              "\n",
              "  <style>\n",
              "    .colab-df-container {\n",
              "      display:flex;\n",
              "      gap: 12px;\n",
              "    }\n",
              "\n",
              "    .colab-df-convert {\n",
              "      background-color: #E8F0FE;\n",
              "      border: none;\n",
              "      border-radius: 50%;\n",
              "      cursor: pointer;\n",
              "      display: none;\n",
              "      fill: #1967D2;\n",
              "      height: 32px;\n",
              "      padding: 0 0 0 0;\n",
              "      width: 32px;\n",
              "    }\n",
              "\n",
              "    .colab-df-convert:hover {\n",
              "      background-color: #E2EBFA;\n",
              "      box-shadow: 0px 1px 2px rgba(60, 64, 67, 0.3), 0px 1px 3px 1px rgba(60, 64, 67, 0.15);\n",
              "      fill: #174EA6;\n",
              "    }\n",
              "\n",
              "    .colab-df-buttons div {\n",
              "      margin-bottom: 4px;\n",
              "    }\n",
              "\n",
              "    [theme=dark] .colab-df-convert {\n",
              "      background-color: #3B4455;\n",
              "      fill: #D2E3FC;\n",
              "    }\n",
              "\n",
              "    [theme=dark] .colab-df-convert:hover {\n",
              "      background-color: #434B5C;\n",
              "      box-shadow: 0px 1px 3px 1px rgba(0, 0, 0, 0.15);\n",
              "      filter: drop-shadow(0px 1px 2px rgba(0, 0, 0, 0.3));\n",
              "      fill: #FFFFFF;\n",
              "    }\n",
              "  </style>\n",
              "\n",
              "    <script>\n",
              "      const buttonEl =\n",
              "        document.querySelector('#df-ebc1b132-370e-4ece-b77f-c43fc3427183 button.colab-df-convert');\n",
              "      buttonEl.style.display =\n",
              "        google.colab.kernel.accessAllowed ? 'block' : 'none';\n",
              "\n",
              "      async function convertToInteractive(key) {\n",
              "        const element = document.querySelector('#df-ebc1b132-370e-4ece-b77f-c43fc3427183');\n",
              "        const dataTable =\n",
              "          await google.colab.kernel.invokeFunction('convertToInteractive',\n",
              "                                                    [key], {});\n",
              "        if (!dataTable) return;\n",
              "\n",
              "        const docLinkHtml = 'Like what you see? Visit the ' +\n",
              "          '<a target=\"_blank\" href=https://colab.research.google.com/notebooks/data_table.ipynb>data table notebook</a>'\n",
              "          + ' to learn more about interactive tables.';\n",
              "        element.innerHTML = '';\n",
              "        dataTable['output_type'] = 'display_data';\n",
              "        await google.colab.output.renderOutput(dataTable, element);\n",
              "        const docLink = document.createElement('div');\n",
              "        docLink.innerHTML = docLinkHtml;\n",
              "        element.appendChild(docLink);\n",
              "      }\n",
              "    </script>\n",
              "  </div>\n",
              "\n",
              "\n",
              "<div id=\"df-2226ab4a-2633-45f8-86fe-39c57ec6762b\">\n",
              "  <button class=\"colab-df-quickchart\" onclick=\"quickchart('df-2226ab4a-2633-45f8-86fe-39c57ec6762b')\"\n",
              "            title=\"Suggest charts\"\n",
              "            style=\"display:none;\">\n",
              "\n",
              "<svg xmlns=\"http://www.w3.org/2000/svg\" height=\"24px\"viewBox=\"0 0 24 24\"\n",
              "     width=\"24px\">\n",
              "    <g>\n",
              "        <path d=\"M19 3H5c-1.1 0-2 .9-2 2v14c0 1.1.9 2 2 2h14c1.1 0 2-.9 2-2V5c0-1.1-.9-2-2-2zM9 17H7v-7h2v7zm4 0h-2V7h2v10zm4 0h-2v-4h2v4z\"/>\n",
              "    </g>\n",
              "</svg>\n",
              "  </button>\n",
              "\n",
              "<style>\n",
              "  .colab-df-quickchart {\n",
              "      --bg-color: #E8F0FE;\n",
              "      --fill-color: #1967D2;\n",
              "      --hover-bg-color: #E2EBFA;\n",
              "      --hover-fill-color: #174EA6;\n",
              "      --disabled-fill-color: #AAA;\n",
              "      --disabled-bg-color: #DDD;\n",
              "  }\n",
              "\n",
              "  [theme=dark] .colab-df-quickchart {\n",
              "      --bg-color: #3B4455;\n",
              "      --fill-color: #D2E3FC;\n",
              "      --hover-bg-color: #434B5C;\n",
              "      --hover-fill-color: #FFFFFF;\n",
              "      --disabled-bg-color: #3B4455;\n",
              "      --disabled-fill-color: #666;\n",
              "  }\n",
              "\n",
              "  .colab-df-quickchart {\n",
              "    background-color: var(--bg-color);\n",
              "    border: none;\n",
              "    border-radius: 50%;\n",
              "    cursor: pointer;\n",
              "    display: none;\n",
              "    fill: var(--fill-color);\n",
              "    height: 32px;\n",
              "    padding: 0;\n",
              "    width: 32px;\n",
              "  }\n",
              "\n",
              "  .colab-df-quickchart:hover {\n",
              "    background-color: var(--hover-bg-color);\n",
              "    box-shadow: 0 1px 2px rgba(60, 64, 67, 0.3), 0 1px 3px 1px rgba(60, 64, 67, 0.15);\n",
              "    fill: var(--button-hover-fill-color);\n",
              "  }\n",
              "\n",
              "  .colab-df-quickchart-complete:disabled,\n",
              "  .colab-df-quickchart-complete:disabled:hover {\n",
              "    background-color: var(--disabled-bg-color);\n",
              "    fill: var(--disabled-fill-color);\n",
              "    box-shadow: none;\n",
              "  }\n",
              "\n",
              "  .colab-df-spinner {\n",
              "    border: 2px solid var(--fill-color);\n",
              "    border-color: transparent;\n",
              "    border-bottom-color: var(--fill-color);\n",
              "    animation:\n",
              "      spin 1s steps(1) infinite;\n",
              "  }\n",
              "\n",
              "  @keyframes spin {\n",
              "    0% {\n",
              "      border-color: transparent;\n",
              "      border-bottom-color: var(--fill-color);\n",
              "      border-left-color: var(--fill-color);\n",
              "    }\n",
              "    20% {\n",
              "      border-color: transparent;\n",
              "      border-left-color: var(--fill-color);\n",
              "      border-top-color: var(--fill-color);\n",
              "    }\n",
              "    30% {\n",
              "      border-color: transparent;\n",
              "      border-left-color: var(--fill-color);\n",
              "      border-top-color: var(--fill-color);\n",
              "      border-right-color: var(--fill-color);\n",
              "    }\n",
              "    40% {\n",
              "      border-color: transparent;\n",
              "      border-right-color: var(--fill-color);\n",
              "      border-top-color: var(--fill-color);\n",
              "    }\n",
              "    60% {\n",
              "      border-color: transparent;\n",
              "      border-right-color: var(--fill-color);\n",
              "    }\n",
              "    80% {\n",
              "      border-color: transparent;\n",
              "      border-right-color: var(--fill-color);\n",
              "      border-bottom-color: var(--fill-color);\n",
              "    }\n",
              "    90% {\n",
              "      border-color: transparent;\n",
              "      border-bottom-color: var(--fill-color);\n",
              "    }\n",
              "  }\n",
              "</style>\n",
              "\n",
              "  <script>\n",
              "    async function quickchart(key) {\n",
              "      const quickchartButtonEl =\n",
              "        document.querySelector('#' + key + ' button');\n",
              "      quickchartButtonEl.disabled = true;  // To prevent multiple clicks.\n",
              "      quickchartButtonEl.classList.add('colab-df-spinner');\n",
              "      try {\n",
              "        const charts = await google.colab.kernel.invokeFunction(\n",
              "            'suggestCharts', [key], {});\n",
              "      } catch (error) {\n",
              "        console.error('Error during call to suggestCharts:', error);\n",
              "      }\n",
              "      quickchartButtonEl.classList.remove('colab-df-spinner');\n",
              "      quickchartButtonEl.classList.add('colab-df-quickchart-complete');\n",
              "    }\n",
              "    (() => {\n",
              "      let quickchartButtonEl =\n",
              "        document.querySelector('#df-2226ab4a-2633-45f8-86fe-39c57ec6762b button');\n",
              "      quickchartButtonEl.style.display =\n",
              "        google.colab.kernel.accessAllowed ? 'block' : 'none';\n",
              "    })();\n",
              "  </script>\n",
              "</div>\n",
              "\n",
              "    </div>\n",
              "  </div>\n"
            ],
            "application/vnd.google.colaboratory.intrinsic+json": {
              "type": "dataframe",
              "variable_name": "train_data",
              "summary": "{\n  \"name\": \"train_data\",\n  \"rows\": 75275,\n  \"fields\": [\n    {\n      \"column\": \"formula\",\n      \"properties\": {\n        \"dtype\": \"string\",\n        \"num_unique_values\": 74878,\n        \"samples\": [\n          \"- d ( l _ { 0 } + 1 , l _ { 1 } + 1 ; l _ { 0 } , l _ { 1 } + 1 ) c ( l _ { 0 } , l _ { 1 } + 1 ; l _ { 0 } , l _ { 1 } ) = 0 ,\",\n          \"a _ { 2 k + 1 , 2 k - 1 } = - \\\\frac { k } { \\\\rho _ { 2 k } } \\\\ \\\\frac { r _ { k } } { h _ { 2 k - 1 } }\",\n          \"{ \\\\cal A } _ { 4 } ^ { [ V ] } ( p _ { 1 } , p _ { 2 } , p _ { 3 } , p _ { 4 } ) = B ( - s - 1 , - t - 1 )\"\n        ],\n        \"semantic_type\": \"\",\n        \"description\": \"\"\n      }\n    },\n    {\n      \"column\": \"image\",\n      \"properties\": {\n        \"dtype\": \"string\",\n        \"num_unique_values\": 75262,\n        \"samples\": [\n          \"275e91a7b0.png\",\n          \"6ef43d13e5.png\",\n          \"1810fae290.png\"\n        ],\n        \"semantic_type\": \"\",\n        \"description\": \"\"\n      }\n    }\n  ]\n}"
            }
          },
          "metadata": {},
          "execution_count": 13
        }
      ]
    },
    {
      "cell_type": "code",
      "source": [
        "from torchvision import transforms\n",
        "\n",
        "train_transforms = transforms.Compose([\n",
        "    transforms.RandomRotation(degrees=10),  # Small random rotation\n",
        "    transforms.ColorJitter(brightness=0.3, contrast=0.3),  # Slight brightness and contrast adjustments\n",
        "    transforms.RandomResizedCrop(size=(224, 224), scale=(0.8, 1.0)),  # Random crop and resize\n",
        "    transforms.RandomAffine(degrees=0, shear=5),  # Slight shear transformation\n",
        "    transforms.ToTensor(),\n",
        "    transforms.Normalize(mean=[0.485, 0.456, 0.406], std=[0.229, 0.224, 0.225])  # Normalization (optional)\n",
        "])\n"
      ],
      "metadata": {
        "id": "zQvoZWLssULu"
      },
      "execution_count": 14,
      "outputs": []
    },
    {
      "cell_type": "code",
      "source": [
        "from torch.utils.data import Dataset\n",
        "from PIL import Image\n",
        "import torch\n",
        "import os\n",
        "\n",
        "class CustomOCRDataset(Dataset):\n",
        "    def __init__(self, root_dir, df, processor, tokenizer, max_target_length=128):\n",
        "        \"\"\"\n",
        "        Custom dataset for OCR tasks.\n",
        "\n",
        "        Args:\n",
        "            root_dir (str): Directory containing the images.\n",
        "            df (pd.DataFrame): DataFrame with 'image' and 'formula' columns.\n",
        "            processor: Image processor (e.g., TrOCR processor).\n",
        "            tokenizer: Text tokenizer (e.g., MathBERTa tokenizer).\n",
        "            max_target_length (int): Maximum length for tokenized text.\n",
        "        \"\"\"\n",
        "        self.root_dir = root_dir\n",
        "        self.df = df\n",
        "        self.processor = processor\n",
        "        self.tokenizer = tokenizer\n",
        "        self.max_target_length = max_target_length\n",
        "\n",
        "    def __len__(self):\n",
        "        return len(self.df)\n",
        "\n",
        "    def __getitem__(self, idx):\n",
        "        try:\n",
        "            # Get image file name and formula\n",
        "            file_name = self.df.iloc[idx]['image']\n",
        "            text = str(self.df.iloc[idx]['formula']).strip()  # Ensure text is a string and strip whitespace\n",
        "\n",
        "            if not text:  # Validate text\n",
        "                raise ValueError(f\"Formula at index {idx} is empty after stripping.\")\n",
        "\n",
        "            # Load and process image\n",
        "            image_path = os.path.join(self.root_dir, file_name)\n",
        "            image = Image.open(image_path).convert('RGB')\n",
        "            image_features = self.processor(image, return_tensors=\"pt\")\n",
        "            pixel_values = image_features.pixel_values.squeeze(0)\n",
        "\n",
        "            # Tokenize text and create labels\n",
        "            text_encoding = self.tokenizer(\n",
        "                text,\n",
        "                padding='max_length',\n",
        "                max_length=self.max_target_length,\n",
        "                truncation=True,\n",
        "                return_tensors=\"pt\"\n",
        "            )\n",
        "            labels = text_encoding.input_ids.squeeze(0)\n",
        "            labels[labels == self.tokenizer.pad_token_id] = -100  # Set padding tokens to -100\n",
        "\n",
        "            return {\n",
        "                \"pixel_values\": pixel_values,\n",
        "                \"labels\": labels\n",
        "            }\n",
        "\n",
        "        except Exception as e:\n",
        "            print(f\"Error processing item at index {idx}: {str(e)}\")\n",
        "            print(f\"File: {self.df.iloc[idx]['image']}, Formula: {self.df.iloc[idx]['formula']}\")\n",
        "            raise\n",
        "\n",
        "\n",
        "class CustomDataCollator:\n",
        "    def __init__(self, tokenizer):\n",
        "        self.tokenizer = tokenizer\n",
        "\n",
        "    def __call__(self, features):\n",
        "        # First, separate the features\n",
        "        pixel_values = [feature[\"pixel_values\"] for feature in features]\n",
        "        # input_ids = [feature[\"input_ids\"] for feature in features]\n",
        "        # attention_mask = [feature[\"attention_mask\"] for feature in features]\n",
        "        labels = [feature[\"labels\"] for feature in features]\n",
        "\n",
        "        # Stack tensors\n",
        "        batch = {\n",
        "            \"pixel_values\": torch.stack(pixel_values),\n",
        "\n",
        "\n",
        "            # \"input_ids\": torch.stack(input_ids),\n",
        "            # \"attention_mask\": torch.stack(attention_mask),\n",
        "            \"labels\": torch.stack(labels)\n",
        "        }\n",
        "\n",
        "        return batch\n",
        "#     \"pixel_values\": pixel_values,\n",
        "#     \"input_ids\": input_ids,\n",
        "#     \"attention_mask\": attention_mask,\n",
        "#     \"labels\": labels\n",
        "#\n",
        "# Example usage demonstration\n",
        "def create_and_test_dataset(dataset_dir, train_data, processor, tokenizer):\n",
        "    # Create dataset\n",
        "    dataset = CustomOCRDataset(\n",
        "        root_dir=dataset_dir,\n",
        "        df=train_data,\n",
        "        processor=processor,\n",
        "        tokenizer=tokenizer\n",
        "    )\n",
        "\n",
        "    # Create data collator\n",
        "    collator = CustomDataCollator(tokenizer)\n",
        "\n",
        "    # Test single item\n",
        "    print(\"Testing single item from dataset:\")\n",
        "    sample = dataset[0]\n",
        "    for key, value in sample.items():\n",
        "        if isinstance(value, torch.Tensor):\n",
        "            print(f\"{key} shape:\", value.shape)\n",
        "\n",
        "    # Test batch collation\n",
        "    from torch.utils.data import DataLoader\n",
        "    loader = DataLoader(dataset, batch_size=4, collate_fn=collator)\n",
        "    batch = next(iter(loader))\n",
        "\n",
        "    print(\"\\nTesting batch after collation:\")\n",
        "    for key, value in batch.items():\n",
        "        if isinstance(value, torch.Tensor):\n",
        "            print(f\"{key} shape:\", value.shape)\n",
        "\n",
        "    return dataset, collator"
      ],
      "metadata": {
        "id": "5wluGgsJz7zw"
      },
      "execution_count": 31,
      "outputs": []
    },
    {
      "cell_type": "code",
      "source": [
        "# Validation function to check dataset items\n",
        "def validate_dataset(dataset, num_samples=5):\n",
        "    print(f\"Validating first {num_samples} items in dataset...\")\n",
        "\n",
        "    for i in range(min(num_samples, len(dataset))):\n",
        "        try:\n",
        "            item = dataset[i]\n",
        "            print(f\"\\nItem {i}:\")\n",
        "            print(f\"Pixel values shape: {item['pixel_values'].shape}\")\n",
        "            # print(f\"Input IDs shape: {item['input_ids'].shape}\")\n",
        "            # print(f\"Attention mask shape: {item['attention_mask'].shape}\")\n",
        "            print(f\"Labels shape: {item['labels'].shape}\")\n",
        "\n",
        "            # Print original formula text\n",
        "            original_text = str(dataset.df.iloc[i]['formula'])\n",
        "            print(f\"Original formula: {original_text[:50]}...\")\n",
        "\n",
        "        except Exception as e:\n",
        "            print(f\"Error validating item {i}: {str(e)}\")\n",
        "            raise\n",
        "\n",
        "# Usage example:\n",
        "def setup_training(dataset_dir, train_data, test_data, processor, tokenizer):\n",
        "    # Create datasets\n",
        "    train_dataset = CustomOCRDataset(\n",
        "        root_dir=dataset_dir,\n",
        "        df=train_data,\n",
        "        processor=processor,\n",
        "        tokenizer=tokenizer\n",
        "    )\n",
        "\n",
        "    valid_dataset = CustomOCRDataset(\n",
        "        root_dir=dataset_dir,\n",
        "        df=test_data,\n",
        "        processor=processor,\n",
        "        tokenizer=tokenizer\n",
        "    )\n",
        "\n",
        "    # Validate datasets\n",
        "    print(\"Validating training dataset:\")\n",
        "    validate_dataset(train_dataset)\n",
        "    print(\"\\nValidating validation dataset:\")\n",
        "    validate_dataset(valid_dataset)\n",
        "\n",
        "    # Create data collator\n",
        "    data_collator = CustomDataCollator(tokenizer)\n",
        "\n",
        "    return train_dataset, valid_dataset, data_collator"
      ],
      "metadata": {
        "id": "yU9b2AcrzfS8"
      },
      "execution_count": 32,
      "outputs": []
    },
    {
      "cell_type": "code",
      "source": [
        "print(train_data.columns)\n",
        "\n"
      ],
      "metadata": {
        "id": "BNR1M1uxzhW2",
        "colab": {
          "base_uri": "https://localhost:8080/"
        },
        "outputId": "b8c80716-5dcd-4871-cb7f-457959aeb453"
      },
      "execution_count": 17,
      "outputs": [
        {
          "output_type": "stream",
          "name": "stdout",
          "text": [
            "Index(['formula', 'image'], dtype='object')\n"
          ]
        }
      ]
    },
    {
      "cell_type": "code",
      "source": [
        "# Initialize models and tokenizers\n",
        "processor = TrOCRProcessor.from_pretrained(\"microsoft/trocr-base-printed\")\n",
        "# tokenizer = AutoTokenizer.from_pretrained(\"witiko/mathberta\")\n",
        "tokenizer = processor.tokenizer\n",
        "# Create and test datasets\n",
        "train_dataset, valid_dataset, data_collator = setup_training(\n",
        "    dataset_dir=dataset_dir,\n",
        "    train_data=train_data,\n",
        "    test_data=test_data,\n",
        "    processor=processor,\n",
        "    tokenizer=tokenizer\n",
        ")\n",
        "\n",
        "\n",
        "# Test dataset example - updated to show all returned fields\n",
        "example = train_dataset[0]\n",
        "print(\"Pixel values shape:\", example['pixel_values'].shape)\n",
        "print(\"Labels shape:\", example['labels'].shape)\n",
        "# print(\"Input IDs shape:\", example['input_ids'].shape)\n",
        "# print(\"Attention mask shape:\", example['attention_mask'].shape)"
      ],
      "metadata": {
        "id": "z7WiK7T91Mnh",
        "colab": {
          "base_uri": "https://localhost:8080/"
        },
        "outputId": "b16f1289-8b66-443a-bc9a-62242b987a08"
      },
      "execution_count": 33,
      "outputs": [
        {
          "output_type": "stream",
          "name": "stdout",
          "text": [
            "Validating training dataset:\n",
            "Validating first 5 items in dataset...\n",
            "\n",
            "Item 0:\n",
            "Pixel values shape: torch.Size([3, 384, 384])\n",
            "Labels shape: torch.Size([128])\n",
            "Original formula: \\widetilde \\gamma _ { \\mathrm { h o p f } } \\simeq...\n",
            "\n",
            "Item 1:\n",
            "Pixel values shape: torch.Size([3, 384, 384])\n",
            "Labels shape: torch.Size([128])\n",
            "Original formula: ( { \\cal L } _ { a } g ) _ { i j } = 0 , \\ \\ \\ \\ (...\n",
            "\n",
            "Item 2:\n",
            "Pixel values shape: torch.Size([3, 384, 384])\n",
            "Labels shape: torch.Size([128])\n",
            "Original formula: S _ { s t a t } = 2 \\pi \\sqrt { N _ { 5 } ^ { ( 1 ...\n",
            "\n",
            "Item 3:\n",
            "Pixel values shape: torch.Size([3, 384, 384])\n",
            "Labels shape: torch.Size([128])\n",
            "Original formula: \\hat { N } _ { 3 } = \\sum \\sp f _ { j = 1 } a _ { ...\n",
            "\n",
            "Item 4:\n",
            "Pixel values shape: torch.Size([3, 384, 384])\n",
            "Labels shape: torch.Size([128])\n",
            "Original formula: \\, ^ { * } d \\, ^ { * } H = \\kappa \\, ^ { * } d \\p...\n",
            "\n",
            "Validating validation dataset:\n",
            "Validating first 5 items in dataset...\n",
            "\n",
            "Item 0:\n",
            "Pixel values shape: torch.Size([3, 384, 384])\n",
            "Labels shape: torch.Size([128])\n",
            "Original formula: \\alpha _ { 1 } ^ { r } \\gamma _ { 1 } + \\dots + \\a...\n",
            "\n",
            "Item 1:\n",
            "Pixel values shape: torch.Size([3, 384, 384])\n",
            "Labels shape: torch.Size([128])\n",
            "Original formula: \\eta = - \\frac { 1 } { 2 } \\operatorname { l n } \\...\n",
            "\n",
            "Item 2:\n",
            "Pixel values shape: torch.Size([3, 384, 384])\n",
            "Labels shape: torch.Size([128])\n",
            "Original formula: P _ { ( 2 ) } ^ { - } = \\int \\beta d \\beta d ^ { 9...\n",
            "\n",
            "Item 3:\n",
            "Pixel values shape: torch.Size([3, 384, 384])\n",
            "Labels shape: torch.Size([128])\n",
            "Original formula: \\Gamma ( z + 1 ) = \\int _ { 0 } ^ { \\infty } \\, \\,...\n",
            "\n",
            "Item 4:\n",
            "Pixel values shape: torch.Size([3, 384, 384])\n",
            "Labels shape: torch.Size([128])\n",
            "Original formula: \\frac { d } { d s } { \\bf C } _ { i } = \\frac { 1 ...\n",
            "Pixel values shape: torch.Size([3, 384, 384])\n",
            "Labels shape: torch.Size([128])\n"
          ]
        }
      ]
    },
    {
      "cell_type": "code",
      "source": [
        "len(train_dataset)"
      ],
      "metadata": {
        "colab": {
          "base_uri": "https://localhost:8080/"
        },
        "id": "UIqPO1ud1MqJ",
        "outputId": "d0666176-84a9-4299-bae2-7b790d0bf616"
      },
      "execution_count": 19,
      "outputs": [
        {
          "output_type": "execute_result",
          "data": {
            "text/plain": [
              "75275"
            ]
          },
          "metadata": {},
          "execution_count": 19
        }
      ]
    },
    {
      "cell_type": "code",
      "source": [
        "len(valid_dataset)\n"
      ],
      "metadata": {
        "colab": {
          "base_uri": "https://localhost:8080/"
        },
        "id": "5DxuaYUm1Mss",
        "outputId": "d1604e61-e4ba-46bf-9c7f-f02010548684"
      },
      "execution_count": 20,
      "outputs": [
        {
          "output_type": "execute_result",
          "data": {
            "text/plain": [
              "10355"
            ]
          },
          "metadata": {},
          "execution_count": 20
        }
      ]
    },
    {
      "cell_type": "code",
      "source": [
        "encoding = train_dataset[0]\n",
        "for k,v in encoding.items():\n",
        "    print(k, v.shape)"
      ],
      "metadata": {
        "colab": {
          "base_uri": "https://localhost:8080/"
        },
        "id": "7anmlJas2fhk",
        "outputId": "e0cb5598-282f-4b4c-88f9-68b49bbe4b03"
      },
      "execution_count": 34,
      "outputs": [
        {
          "output_type": "stream",
          "name": "stdout",
          "text": [
            "pixel_values torch.Size([3, 384, 384])\n",
            "labels torch.Size([128])\n"
          ]
        }
      ]
    },
    {
      "cell_type": "code",
      "source": [
        "model = VisionEncoderDecoderModel.from_pretrained(ModelConfig.MODEL_NAME)\n",
        "model.to(device)\n",
        "print(model)\n",
        "# Total parameters and trainable parameters.\n",
        "total_params = sum(p.numel() for p in model.parameters())\n",
        "print(f\"{total_params:,} total parameters.\")\n",
        "total_trainable_params = sum(\n",
        "    p.numel() for p in model.parameters() if p.requires_grad)\n",
        "print(f\"{total_trainable_params:,} training parameters.\")"
      ],
      "metadata": {
        "colab": {
          "base_uri": "https://localhost:8080/"
        },
        "id": "FmmQ3DNn21Bn",
        "outputId": "7f88fe97-d6a9-4751-9835-aeb5d4cd5dcb"
      },
      "execution_count": 35,
      "outputs": [
        {
          "output_type": "stream",
          "name": "stderr",
          "text": [
            "Config of the encoder: <class 'transformers.models.vit.modeling_vit.ViTModel'> is overwritten by shared encoder config: ViTConfig {\n",
            "  \"attention_probs_dropout_prob\": 0.0,\n",
            "  \"encoder_stride\": 16,\n",
            "  \"hidden_act\": \"gelu\",\n",
            "  \"hidden_dropout_prob\": 0.0,\n",
            "  \"hidden_size\": 768,\n",
            "  \"image_size\": 384,\n",
            "  \"initializer_range\": 0.02,\n",
            "  \"intermediate_size\": 3072,\n",
            "  \"layer_norm_eps\": 1e-12,\n",
            "  \"model_type\": \"vit\",\n",
            "  \"num_attention_heads\": 12,\n",
            "  \"num_channels\": 3,\n",
            "  \"num_hidden_layers\": 12,\n",
            "  \"patch_size\": 16,\n",
            "  \"qkv_bias\": false,\n",
            "  \"transformers_version\": \"4.46.2\"\n",
            "}\n",
            "\n",
            "Config of the decoder: <class 'transformers.models.trocr.modeling_trocr.TrOCRForCausalLM'> is overwritten by shared decoder config: TrOCRConfig {\n",
            "  \"activation_dropout\": 0.0,\n",
            "  \"activation_function\": \"gelu\",\n",
            "  \"add_cross_attention\": true,\n",
            "  \"attention_dropout\": 0.0,\n",
            "  \"bos_token_id\": 0,\n",
            "  \"classifier_dropout\": 0.0,\n",
            "  \"cross_attention_hidden_size\": 768,\n",
            "  \"d_model\": 1024,\n",
            "  \"decoder_attention_heads\": 16,\n",
            "  \"decoder_ffn_dim\": 4096,\n",
            "  \"decoder_layerdrop\": 0.0,\n",
            "  \"decoder_layers\": 12,\n",
            "  \"decoder_start_token_id\": 2,\n",
            "  \"dropout\": 0.1,\n",
            "  \"eos_token_id\": 2,\n",
            "  \"init_std\": 0.02,\n",
            "  \"is_decoder\": true,\n",
            "  \"layernorm_embedding\": true,\n",
            "  \"max_position_embeddings\": 512,\n",
            "  \"model_type\": \"trocr\",\n",
            "  \"pad_token_id\": 1,\n",
            "  \"scale_embedding\": false,\n",
            "  \"transformers_version\": \"4.46.2\",\n",
            "  \"use_cache\": false,\n",
            "  \"use_learned_position_embeddings\": true,\n",
            "  \"vocab_size\": 50265\n",
            "}\n",
            "\n",
            "Some weights of VisionEncoderDecoderModel were not initialized from the model checkpoint at microsoft/trocr-base-printed and are newly initialized: ['encoder.pooler.dense.bias', 'encoder.pooler.dense.weight']\n",
            "You should probably TRAIN this model on a down-stream task to be able to use it for predictions and inference.\n"
          ]
        },
        {
          "output_type": "stream",
          "name": "stdout",
          "text": [
            "VisionEncoderDecoderModel(\n",
            "  (encoder): ViTModel(\n",
            "    (embeddings): ViTEmbeddings(\n",
            "      (patch_embeddings): ViTPatchEmbeddings(\n",
            "        (projection): Conv2d(3, 768, kernel_size=(16, 16), stride=(16, 16))\n",
            "      )\n",
            "      (dropout): Dropout(p=0.0, inplace=False)\n",
            "    )\n",
            "    (encoder): ViTEncoder(\n",
            "      (layer): ModuleList(\n",
            "        (0-11): 12 x ViTLayer(\n",
            "          (attention): ViTSdpaAttention(\n",
            "            (attention): ViTSdpaSelfAttention(\n",
            "              (query): Linear(in_features=768, out_features=768, bias=False)\n",
            "              (key): Linear(in_features=768, out_features=768, bias=False)\n",
            "              (value): Linear(in_features=768, out_features=768, bias=False)\n",
            "              (dropout): Dropout(p=0.0, inplace=False)\n",
            "            )\n",
            "            (output): ViTSelfOutput(\n",
            "              (dense): Linear(in_features=768, out_features=768, bias=True)\n",
            "              (dropout): Dropout(p=0.0, inplace=False)\n",
            "            )\n",
            "          )\n",
            "          (intermediate): ViTIntermediate(\n",
            "            (dense): Linear(in_features=768, out_features=3072, bias=True)\n",
            "            (intermediate_act_fn): GELUActivation()\n",
            "          )\n",
            "          (output): ViTOutput(\n",
            "            (dense): Linear(in_features=3072, out_features=768, bias=True)\n",
            "            (dropout): Dropout(p=0.0, inplace=False)\n",
            "          )\n",
            "          (layernorm_before): LayerNorm((768,), eps=1e-12, elementwise_affine=True)\n",
            "          (layernorm_after): LayerNorm((768,), eps=1e-12, elementwise_affine=True)\n",
            "        )\n",
            "      )\n",
            "    )\n",
            "    (layernorm): LayerNorm((768,), eps=1e-12, elementwise_affine=True)\n",
            "    (pooler): ViTPooler(\n",
            "      (dense): Linear(in_features=768, out_features=768, bias=True)\n",
            "      (activation): Tanh()\n",
            "    )\n",
            "  )\n",
            "  (decoder): TrOCRForCausalLM(\n",
            "    (model): TrOCRDecoderWrapper(\n",
            "      (decoder): TrOCRDecoder(\n",
            "        (embed_tokens): TrOCRScaledWordEmbedding(50265, 1024, padding_idx=1)\n",
            "        (embed_positions): TrOCRLearnedPositionalEmbedding(514, 1024)\n",
            "        (layernorm_embedding): LayerNorm((1024,), eps=1e-05, elementwise_affine=True)\n",
            "        (layers): ModuleList(\n",
            "          (0-11): 12 x TrOCRDecoderLayer(\n",
            "            (self_attn): TrOCRAttention(\n",
            "              (k_proj): Linear(in_features=1024, out_features=1024, bias=True)\n",
            "              (v_proj): Linear(in_features=1024, out_features=1024, bias=True)\n",
            "              (q_proj): Linear(in_features=1024, out_features=1024, bias=True)\n",
            "              (out_proj): Linear(in_features=1024, out_features=1024, bias=True)\n",
            "            )\n",
            "            (activation_fn): GELUActivation()\n",
            "            (self_attn_layer_norm): LayerNorm((1024,), eps=1e-05, elementwise_affine=True)\n",
            "            (encoder_attn): TrOCRAttention(\n",
            "              (k_proj): Linear(in_features=768, out_features=1024, bias=True)\n",
            "              (v_proj): Linear(in_features=768, out_features=1024, bias=True)\n",
            "              (q_proj): Linear(in_features=1024, out_features=1024, bias=True)\n",
            "              (out_proj): Linear(in_features=1024, out_features=1024, bias=True)\n",
            "            )\n",
            "            (encoder_attn_layer_norm): LayerNorm((1024,), eps=1e-05, elementwise_affine=True)\n",
            "            (fc1): Linear(in_features=1024, out_features=4096, bias=True)\n",
            "            (fc2): Linear(in_features=4096, out_features=1024, bias=True)\n",
            "            (final_layer_norm): LayerNorm((1024,), eps=1e-05, elementwise_affine=True)\n",
            "          )\n",
            "        )\n",
            "      )\n",
            "    )\n",
            "    (output_projection): Linear(in_features=1024, out_features=50265, bias=False)\n",
            "  )\n",
            ")\n",
            "333,921,792 total parameters.\n",
            "333,921,792 training parameters.\n"
          ]
        }
      ]
    },
    {
      "cell_type": "code",
      "source": [
        "data_collator = CustomDataCollator(tokenizer=tokenizer)\n"
      ],
      "metadata": {
        "id": "1OvGKYEUuFAj"
      },
      "execution_count": 36,
      "outputs": []
    },
    {
      "cell_type": "code",
      "source": [],
      "metadata": {
        "id": "tuQNlfGnuFDH"
      },
      "execution_count": null,
      "outputs": []
    },
    {
      "cell_type": "code",
      "source": [
        "# Load tokenizer and model for LaTeX data\n",
        "from transformers import AutoTokenizer, AutoModelForMaskedLM\n",
        "\n",
        "tokenizer = AutoTokenizer.from_pretrained(\"witiko/mathberta\")\n",
        "# model = AutoModelForMaskedLM.from_pretrained(\"witiko/mathberta\")\n",
        "\n",
        "\n",
        "# Update the model configuration for decoding settings\n",
        "model.config.decoder_start_token_id = tokenizer.cls_token_id\n",
        "model.config.pad_token_id = tokenizer.pad_token_id\n",
        "model.config.eos_token_id = tokenizer.sep_token_id\n",
        "\n",
        "# Ensure the vocabulary size matches the tokenizer's vocab size\n",
        "model.config.vocab_size = len(tokenizer)\n",
        "\n",
        "# Set decoding hyperparameters\n",
        "model.config.max_length = 64\n",
        "model.config.early_stopping = True\n",
        "model.config.no_repeat_ngram_size = 3\n",
        "model.config.length_penalty = 2.0\n",
        "model.config.num_beams = 4\n",
        "print(model.config)"
      ],
      "metadata": {
        "id": "ga2CB9Wd3OwA",
        "colab": {
          "base_uri": "https://localhost:8080/"
        },
        "outputId": "3cb8ebd4-284b-4250-cdf6-a0ccf54ad86a"
      },
      "execution_count": 37,
      "outputs": [
        {
          "output_type": "stream",
          "name": "stdout",
          "text": [
            "VisionEncoderDecoderConfig {\n",
            "  \"_attn_implementation_autoset\": true,\n",
            "  \"_name_or_path\": \"microsoft/trocr-base-printed\",\n",
            "  \"architectures\": [\n",
            "    \"VisionEncoderDecoderModel\"\n",
            "  ],\n",
            "  \"decoder\": {\n",
            "    \"_attn_implementation_autoset\": false,\n",
            "    \"_name_or_path\": \"\",\n",
            "    \"activation_dropout\": 0.0,\n",
            "    \"activation_function\": \"gelu\",\n",
            "    \"add_cross_attention\": true,\n",
            "    \"architectures\": null,\n",
            "    \"attention_dropout\": 0.0,\n",
            "    \"bad_words_ids\": null,\n",
            "    \"begin_suppress_tokens\": null,\n",
            "    \"bos_token_id\": 0,\n",
            "    \"chunk_size_feed_forward\": 0,\n",
            "    \"classifier_dropout\": 0.0,\n",
            "    \"cross_attention_hidden_size\": 768,\n",
            "    \"d_model\": 1024,\n",
            "    \"decoder_attention_heads\": 16,\n",
            "    \"decoder_ffn_dim\": 4096,\n",
            "    \"decoder_layerdrop\": 0.0,\n",
            "    \"decoder_layers\": 12,\n",
            "    \"decoder_start_token_id\": 2,\n",
            "    \"diversity_penalty\": 0.0,\n",
            "    \"do_sample\": false,\n",
            "    \"dropout\": 0.1,\n",
            "    \"early_stopping\": false,\n",
            "    \"encoder_no_repeat_ngram_size\": 0,\n",
            "    \"eos_token_id\": 2,\n",
            "    \"exponential_decay_length_penalty\": null,\n",
            "    \"finetuning_task\": null,\n",
            "    \"forced_bos_token_id\": null,\n",
            "    \"forced_eos_token_id\": null,\n",
            "    \"id2label\": {\n",
            "      \"0\": \"LABEL_0\",\n",
            "      \"1\": \"LABEL_1\"\n",
            "    },\n",
            "    \"init_std\": 0.02,\n",
            "    \"is_decoder\": true,\n",
            "    \"is_encoder_decoder\": false,\n",
            "    \"label2id\": {\n",
            "      \"LABEL_0\": 0,\n",
            "      \"LABEL_1\": 1\n",
            "    },\n",
            "    \"layernorm_embedding\": true,\n",
            "    \"length_penalty\": 1.0,\n",
            "    \"max_length\": 20,\n",
            "    \"max_position_embeddings\": 512,\n",
            "    \"min_length\": 0,\n",
            "    \"model_type\": \"trocr\",\n",
            "    \"no_repeat_ngram_size\": 0,\n",
            "    \"num_beam_groups\": 1,\n",
            "    \"num_beams\": 1,\n",
            "    \"num_return_sequences\": 1,\n",
            "    \"output_attentions\": false,\n",
            "    \"output_hidden_states\": false,\n",
            "    \"output_scores\": false,\n",
            "    \"pad_token_id\": 1,\n",
            "    \"prefix\": null,\n",
            "    \"problem_type\": null,\n",
            "    \"pruned_heads\": {},\n",
            "    \"remove_invalid_values\": false,\n",
            "    \"repetition_penalty\": 1.0,\n",
            "    \"return_dict\": true,\n",
            "    \"return_dict_in_generate\": false,\n",
            "    \"scale_embedding\": false,\n",
            "    \"sep_token_id\": null,\n",
            "    \"suppress_tokens\": null,\n",
            "    \"task_specific_params\": null,\n",
            "    \"temperature\": 1.0,\n",
            "    \"tf_legacy_loss\": false,\n",
            "    \"tie_encoder_decoder\": false,\n",
            "    \"tie_word_embeddings\": true,\n",
            "    \"tokenizer_class\": null,\n",
            "    \"top_k\": 50,\n",
            "    \"top_p\": 1.0,\n",
            "    \"torch_dtype\": null,\n",
            "    \"torchscript\": false,\n",
            "    \"typical_p\": 1.0,\n",
            "    \"use_bfloat16\": false,\n",
            "    \"use_cache\": false,\n",
            "    \"use_learned_position_embeddings\": true,\n",
            "    \"vocab_size\": 50265\n",
            "  },\n",
            "  \"decoder_start_token_id\": 0,\n",
            "  \"early_stopping\": true,\n",
            "  \"encoder\": {\n",
            "    \"_attn_implementation_autoset\": false,\n",
            "    \"_name_or_path\": \"\",\n",
            "    \"add_cross_attention\": false,\n",
            "    \"architectures\": null,\n",
            "    \"attention_probs_dropout_prob\": 0.0,\n",
            "    \"bad_words_ids\": null,\n",
            "    \"begin_suppress_tokens\": null,\n",
            "    \"bos_token_id\": null,\n",
            "    \"chunk_size_feed_forward\": 0,\n",
            "    \"cross_attention_hidden_size\": null,\n",
            "    \"decoder_start_token_id\": null,\n",
            "    \"diversity_penalty\": 0.0,\n",
            "    \"do_sample\": false,\n",
            "    \"early_stopping\": false,\n",
            "    \"encoder_no_repeat_ngram_size\": 0,\n",
            "    \"encoder_stride\": 16,\n",
            "    \"eos_token_id\": null,\n",
            "    \"exponential_decay_length_penalty\": null,\n",
            "    \"finetuning_task\": null,\n",
            "    \"forced_bos_token_id\": null,\n",
            "    \"forced_eos_token_id\": null,\n",
            "    \"hidden_act\": \"gelu\",\n",
            "    \"hidden_dropout_prob\": 0.0,\n",
            "    \"hidden_size\": 768,\n",
            "    \"id2label\": {\n",
            "      \"0\": \"LABEL_0\",\n",
            "      \"1\": \"LABEL_1\"\n",
            "    },\n",
            "    \"image_size\": 384,\n",
            "    \"initializer_range\": 0.02,\n",
            "    \"intermediate_size\": 3072,\n",
            "    \"is_decoder\": false,\n",
            "    \"is_encoder_decoder\": false,\n",
            "    \"label2id\": {\n",
            "      \"LABEL_0\": 0,\n",
            "      \"LABEL_1\": 1\n",
            "    },\n",
            "    \"layer_norm_eps\": 1e-12,\n",
            "    \"length_penalty\": 1.0,\n",
            "    \"max_length\": 20,\n",
            "    \"min_length\": 0,\n",
            "    \"model_type\": \"vit\",\n",
            "    \"no_repeat_ngram_size\": 0,\n",
            "    \"num_attention_heads\": 12,\n",
            "    \"num_beam_groups\": 1,\n",
            "    \"num_beams\": 1,\n",
            "    \"num_channels\": 3,\n",
            "    \"num_hidden_layers\": 12,\n",
            "    \"num_return_sequences\": 1,\n",
            "    \"output_attentions\": false,\n",
            "    \"output_hidden_states\": false,\n",
            "    \"output_scores\": false,\n",
            "    \"pad_token_id\": null,\n",
            "    \"patch_size\": 16,\n",
            "    \"prefix\": null,\n",
            "    \"problem_type\": null,\n",
            "    \"pruned_heads\": {},\n",
            "    \"qkv_bias\": false,\n",
            "    \"remove_invalid_values\": false,\n",
            "    \"repetition_penalty\": 1.0,\n",
            "    \"return_dict\": true,\n",
            "    \"return_dict_in_generate\": false,\n",
            "    \"sep_token_id\": null,\n",
            "    \"suppress_tokens\": null,\n",
            "    \"task_specific_params\": null,\n",
            "    \"temperature\": 1.0,\n",
            "    \"tf_legacy_loss\": false,\n",
            "    \"tie_encoder_decoder\": false,\n",
            "    \"tie_word_embeddings\": true,\n",
            "    \"tokenizer_class\": null,\n",
            "    \"top_k\": 50,\n",
            "    \"top_p\": 1.0,\n",
            "    \"torch_dtype\": null,\n",
            "    \"torchscript\": false,\n",
            "    \"typical_p\": 1.0,\n",
            "    \"use_bfloat16\": false\n",
            "  },\n",
            "  \"eos_token_id\": 2,\n",
            "  \"is_encoder_decoder\": true,\n",
            "  \"length_penalty\": 2.0,\n",
            "  \"max_length\": 64,\n",
            "  \"model_type\": \"vision-encoder-decoder\",\n",
            "  \"no_repeat_ngram_size\": 3,\n",
            "  \"num_beams\": 4,\n",
            "  \"pad_token_id\": 1,\n",
            "  \"tie_word_embeddings\": false,\n",
            "  \"torch_dtype\": \"float32\",\n",
            "  \"transformers_version\": \"4.46.2\",\n",
            "  \"vocab_size\": 78680\n",
            "}\n",
            "\n"
          ]
        }
      ]
    },
    {
      "cell_type": "code",
      "source": [
        "optimizer = optim.AdamW(\n",
        "    model.parameters(), lr=TrainingConfig.LEARNING_RATE, weight_decay=0.0005\n",
        ")"
      ],
      "metadata": {
        "id": "DLJPb9BJ3OyP"
      },
      "execution_count": 38,
      "outputs": []
    },
    {
      "cell_type": "code",
      "source": [
        "cer_metric = evaluate.load('cer')\n",
        "\n",
        "\n",
        "def compute_cer(pred):\n",
        "    labels_ids = pred.label_ids\n",
        "    pred_ids = pred.predictions\n",
        "\n",
        "\n",
        "    pred_str = processor.batch_decode(pred_ids, skip_special_tokens=True)\n",
        "    labels_ids[labels_ids == -100] = processor.tokenizer.pad_token_id\n",
        "    label_str = processor.batch_decode(labels_ids, skip_special_tokens=True)\n",
        "\n",
        "\n",
        "    cer = cer_metric.compute(predictions=pred_str, references=label_str)\n",
        "\n",
        "\n",
        "    return {\"cer\": cer}"
      ],
      "metadata": {
        "id": "q3UJP9S-3O07"
      },
      "execution_count": 39,
      "outputs": []
    },
    {
      "cell_type": "code",
      "source": [
        "training_args = Seq2SeqTrainingArguments(\n",
        "    predict_with_generate=True,\n",
        "    evaluation_strategy=\"steps\",  # Evaluate after a set number of steps\n",
        "    save_strategy=\"steps\",        # Save after the same number of steps\n",
        "    eval_steps=500,               # Perform evaluation every 500 steps\n",
        "    save_steps=500,               # Save the model every 500 steps\n",
        "    load_best_model_at_end=True,  # Load the best model at the end\n",
        "    per_device_train_batch_size=10,  # Reduce batch size to save memory\n",
        "    per_device_eval_batch_size=10,\n",
        "    num_train_epochs=3,\n",
        "    output_dir=\"./results\",\n",
        "    logging_dir=\"./logs\",\n",
        "    logging_steps=100,\n",
        "    save_total_limit=2,  # Limit the number of saved checkpoints\n",
        "    fp16=True,  # Use mixed precision training\n",
        ")\n"
      ],
      "metadata": {
        "colab": {
          "base_uri": "https://localhost:8080/"
        },
        "id": "9kj5U0Xv3O3i",
        "outputId": "e84dc3d7-e765-4ecb-8efc-cc3d67ef45b9"
      },
      "execution_count": 58,
      "outputs": [
        {
          "output_type": "stream",
          "name": "stderr",
          "text": [
            "/usr/local/lib/python3.10/dist-packages/transformers/training_args.py:1568: FutureWarning: `evaluation_strategy` is deprecated and will be removed in version 4.46 of 🤗 Transformers. Use `eval_strategy` instead\n",
            "  warnings.warn(\n"
          ]
        }
      ]
    },
    {
      "cell_type": "code",
      "source": [
        "from transformers import Seq2SeqTrainer\n",
        "trainer = Seq2SeqTrainer(\n",
        "    model=model,\n",
        "    args=training_args,\n",
        "    train_dataset=train_dataset,\n",
        "    eval_dataset=valid_dataset,\n",
        "    tokenizer=tokenizer,\n",
        "    data_collator=data_collator,\n",
        ")"
      ],
      "metadata": {
        "colab": {
          "base_uri": "https://localhost:8080/"
        },
        "id": "zLr9Xwqy3O50",
        "outputId": "65bc5e60-37a9-44b5-dfb6-d553d07311aa"
      },
      "execution_count": 59,
      "outputs": [
        {
          "output_type": "stream",
          "name": "stderr",
          "text": [
            "<ipython-input-59-53a006598497>:2: FutureWarning: `tokenizer` is deprecated and will be removed in version 5.0.0 for `Seq2SeqTrainer.__init__`. Use `processing_class` instead.\n",
            "  trainer = Seq2SeqTrainer(\n"
          ]
        }
      ]
    },
    {
      "cell_type": "code",
      "source": [
        "res = trainer.train()"
      ],
      "metadata": {
        "colab": {
          "base_uri": "https://localhost:8080/",
          "height": 307
        },
        "id": "9Jeo6yE39Uru",
        "outputId": "a7dda6de-4a84-4ab7-edef-3310d15d4db4"
      },
      "execution_count": null,
      "outputs": [
        {
          "output_type": "display_data",
          "data": {
            "text/plain": [
              "<IPython.core.display.HTML object>"
            ],
            "text/html": [
              "\n",
              "    <div>\n",
              "      \n",
              "      <progress value='3001' max='22584' style='width:300px; height:20px; vertical-align: middle;'></progress>\n",
              "      [ 3001/22584 1:01:40 < 6:42:41, 0.81 it/s, Epoch 0.40/3]\n",
              "    </div>\n",
              "    <table border=\"1\" class=\"dataframe\">\n",
              "  <thead>\n",
              " <tr style=\"text-align: left;\">\n",
              "      <th>Step</th>\n",
              "      <th>Training Loss</th>\n",
              "      <th>Validation Loss</th>\n",
              "    </tr>\n",
              "  </thead>\n",
              "  <tbody>\n",
              "    <tr>\n",
              "      <td>500</td>\n",
              "      <td>3.208900</td>\n",
              "      <td>3.214692</td>\n",
              "    </tr>\n",
              "    <tr>\n",
              "      <td>1000</td>\n",
              "      <td>2.970100</td>\n",
              "      <td>3.071295</td>\n",
              "    </tr>\n",
              "    <tr>\n",
              "      <td>1500</td>\n",
              "      <td>2.854400</td>\n",
              "      <td>2.943905</td>\n",
              "    </tr>\n",
              "    <tr>\n",
              "      <td>2000</td>\n",
              "      <td>2.771400</td>\n",
              "      <td>2.866012</td>\n",
              "    </tr>\n",
              "    <tr>\n",
              "      <td>2500</td>\n",
              "      <td>2.741800</td>\n",
              "      <td>3.186328</td>\n",
              "    </tr>\n",
              "  </tbody>\n",
              "</table><p>\n",
              "    <div>\n",
              "      \n",
              "      <progress value='138' max='1036' style='width:300px; height:20px; vertical-align: middle;'></progress>\n",
              "      [ 138/1036 00:34 < 03:44, 4.00 it/s]\n",
              "    </div>\n",
              "    "
            ]
          },
          "metadata": {}
        },
        {
          "output_type": "stream",
          "name": "stderr",
          "text": [
            "/usr/local/lib/python3.10/dist-packages/transformers/modeling_utils.py:2817: UserWarning: Moving the following attributes in the config to the generation config: {'max_length': 64, 'early_stopping': True, 'num_beams': 4, 'length_penalty': 2.0, 'no_repeat_ngram_size': 3}. You are seeing this warning because you've set generation parameters in the model config, as opposed to in the generation config.\n",
            "  warnings.warn(\n"
          ]
        }
      ]
    },
    {
      "cell_type": "code",
      "source": [
        "%env PYTORCH_CUDA_ALLOC_CONF=expandable_segments:True\n"
      ],
      "metadata": {
        "id": "6DffeMFyOT9J",
        "colab": {
          "base_uri": "https://localhost:8080/"
        },
        "outputId": "e8a41a49-4420-4891-f8e8-1d519f7cdc8e"
      },
      "execution_count": 53,
      "outputs": [
        {
          "output_type": "stream",
          "name": "stdout",
          "text": [
            "env: PYTORCH_CUDA_ALLOC_CONF=expandable_segments:True\n"
          ]
        }
      ]
    },
    {
      "cell_type": "code",
      "source": [
        "!nvidia-smi\n"
      ],
      "metadata": {
        "colab": {
          "base_uri": "https://localhost:8080/"
        },
        "id": "ThSUbzjG-15A",
        "outputId": "c68be9d9-9ea1-48a7-aaec-47fb026b62e2"
      },
      "execution_count": null,
      "outputs": [
        {
          "output_type": "stream",
          "name": "stdout",
          "text": [
            "Fri Nov 22 13:07:02 2024       \n",
            "+---------------------------------------------------------------------------------------+\n",
            "| NVIDIA-SMI 535.104.05             Driver Version: 535.104.05   CUDA Version: 12.2     |\n",
            "|-----------------------------------------+----------------------+----------------------+\n",
            "| GPU  Name                 Persistence-M | Bus-Id        Disp.A | Volatile Uncorr. ECC |\n",
            "| Fan  Temp   Perf          Pwr:Usage/Cap |         Memory-Usage | GPU-Util  Compute M. |\n",
            "|                                         |                      |               MIG M. |\n",
            "|=========================================+======================+======================|\n",
            "|   0  Tesla T4                       Off | 00000000:00:04.0 Off |                    0 |\n",
            "| N/A   49C    P0              29W /  70W |  15065MiB / 15360MiB |      0%      Default |\n",
            "|                                         |                      |                  N/A |\n",
            "+-----------------------------------------+----------------------+----------------------+\n",
            "                                                                                         \n",
            "+---------------------------------------------------------------------------------------+\n",
            "| Processes:                                                                            |\n",
            "|  GPU   GI   CI        PID   Type   Process name                            GPU Memory |\n",
            "|        ID   ID                                                             Usage      |\n",
            "|=======================================================================================|\n",
            "+---------------------------------------------------------------------------------------+\n"
          ]
        }
      ]
    },
    {
      "cell_type": "code",
      "source": [
        "print(\"Tokenizer vocab size:\", tokenizer.vocab_size)\n",
        "print(\"Model config vocab size:\", model.config.vocab_size)\n",
        "print(\"Pad token ID:\", tokenizer.pad_token_id)\n"
      ],
      "metadata": {
        "colab": {
          "base_uri": "https://localhost:8080/",
          "height": 315
        },
        "id": "MtS7ydlvz-f5",
        "outputId": "14b5b1c7-fe32-47dd-885d-7bb756be5745"
      },
      "execution_count": null,
      "outputs": [
        {
          "output_type": "stream",
          "name": "stdout",
          "text": [
            "Tokenizer vocab size: 64002\n"
          ]
        },
        {
          "output_type": "error",
          "ename": "AttributeError",
          "evalue": "'VisionEncoderDecoderConfig' object has no attribute 'vocab_size'",
          "traceback": [
            "\u001b[0;31m---------------------------------------------------------------------------\u001b[0m",
            "\u001b[0;31mAttributeError\u001b[0m                            Traceback (most recent call last)",
            "\u001b[0;32m<ipython-input-75-d902b3932754>\u001b[0m in \u001b[0;36m<cell line: 2>\u001b[0;34m()\u001b[0m\n\u001b[1;32m      1\u001b[0m \u001b[0mprint\u001b[0m\u001b[0;34m(\u001b[0m\u001b[0;34m\"Tokenizer vocab size:\"\u001b[0m\u001b[0;34m,\u001b[0m \u001b[0mtokenizer\u001b[0m\u001b[0;34m.\u001b[0m\u001b[0mvocab_size\u001b[0m\u001b[0;34m)\u001b[0m\u001b[0;34m\u001b[0m\u001b[0;34m\u001b[0m\u001b[0m\n\u001b[0;32m----> 2\u001b[0;31m \u001b[0mprint\u001b[0m\u001b[0;34m(\u001b[0m\u001b[0;34m\"Model config vocab size:\"\u001b[0m\u001b[0;34m,\u001b[0m \u001b[0mmodel\u001b[0m\u001b[0;34m.\u001b[0m\u001b[0mconfig\u001b[0m\u001b[0;34m.\u001b[0m\u001b[0mvocab_size\u001b[0m\u001b[0;34m)\u001b[0m\u001b[0;34m\u001b[0m\u001b[0;34m\u001b[0m\u001b[0m\n\u001b[0m\u001b[1;32m      3\u001b[0m \u001b[0mprint\u001b[0m\u001b[0;34m(\u001b[0m\u001b[0;34m\"Pad token ID:\"\u001b[0m\u001b[0;34m,\u001b[0m \u001b[0mtokenizer\u001b[0m\u001b[0;34m.\u001b[0m\u001b[0mpad_token_id\u001b[0m\u001b[0;34m)\u001b[0m\u001b[0;34m\u001b[0m\u001b[0;34m\u001b[0m\u001b[0m\n",
            "\u001b[0;32m/usr/local/lib/python3.10/dist-packages/transformers/configuration_utils.py\u001b[0m in \u001b[0;36m__getattribute__\u001b[0;34m(self, key)\u001b[0m\n\u001b[1;32m    203\u001b[0m         \u001b[0;32mif\u001b[0m \u001b[0mkey\u001b[0m \u001b[0;34m!=\u001b[0m \u001b[0;34m\"attribute_map\"\u001b[0m \u001b[0;32mand\u001b[0m \u001b[0mkey\u001b[0m \u001b[0;32min\u001b[0m \u001b[0msuper\u001b[0m\u001b[0;34m(\u001b[0m\u001b[0;34m)\u001b[0m\u001b[0;34m.\u001b[0m\u001b[0m__getattribute__\u001b[0m\u001b[0;34m(\u001b[0m\u001b[0;34m\"attribute_map\"\u001b[0m\u001b[0;34m)\u001b[0m\u001b[0;34m:\u001b[0m\u001b[0;34m\u001b[0m\u001b[0;34m\u001b[0m\u001b[0m\n\u001b[1;32m    204\u001b[0m             \u001b[0mkey\u001b[0m \u001b[0;34m=\u001b[0m \u001b[0msuper\u001b[0m\u001b[0;34m(\u001b[0m\u001b[0;34m)\u001b[0m\u001b[0;34m.\u001b[0m\u001b[0m__getattribute__\u001b[0m\u001b[0;34m(\u001b[0m\u001b[0;34m\"attribute_map\"\u001b[0m\u001b[0;34m)\u001b[0m\u001b[0;34m[\u001b[0m\u001b[0mkey\u001b[0m\u001b[0;34m]\u001b[0m\u001b[0;34m\u001b[0m\u001b[0;34m\u001b[0m\u001b[0m\n\u001b[0;32m--> 205\u001b[0;31m         \u001b[0;32mreturn\u001b[0m \u001b[0msuper\u001b[0m\u001b[0;34m(\u001b[0m\u001b[0;34m)\u001b[0m\u001b[0;34m.\u001b[0m\u001b[0m__getattribute__\u001b[0m\u001b[0;34m(\u001b[0m\u001b[0mkey\u001b[0m\u001b[0;34m)\u001b[0m\u001b[0;34m\u001b[0m\u001b[0;34m\u001b[0m\u001b[0m\n\u001b[0m\u001b[1;32m    206\u001b[0m \u001b[0;34m\u001b[0m\u001b[0m\n\u001b[1;32m    207\u001b[0m     \u001b[0;32mdef\u001b[0m \u001b[0m__init__\u001b[0m\u001b[0;34m(\u001b[0m\u001b[0mself\u001b[0m\u001b[0;34m,\u001b[0m \u001b[0;34m**\u001b[0m\u001b[0mkwargs\u001b[0m\u001b[0;34m)\u001b[0m\u001b[0;34m:\u001b[0m\u001b[0;34m\u001b[0m\u001b[0;34m\u001b[0m\u001b[0m\n",
            "\u001b[0;31mAttributeError\u001b[0m: 'VisionEncoderDecoderConfig' object has no attribute 'vocab_size'"
          ]
        }
      ]
    },
    {
      "cell_type": "code",
      "source": [
        "# Define a directory to save the model\n",
        "output_dir = \"./saved_model\"\n",
        "\n",
        "# Save the model\n",
        "model.save_pretrained(output_dir)\n",
        "\n",
        "# Save the processor (used for pre/post-processing)\n",
        "processor.save_pretrained(output_dir)\n",
        "\n",
        "print(f\"Model and processor saved to {output_dir}\")\n"
      ],
      "metadata": {
        "id": "jJ79_kVz0ecV"
      },
      "execution_count": null,
      "outputs": []
    },
    {
      "cell_type": "code",
      "source": [
        "from transformers import VisionEncoderDecoderModel, TrOCRProcessor\n",
        "\n",
        "# Load the model\n",
        "model = VisionEncoderDecoderModel.from_pretrained(output_dir)\n",
        "\n",
        "# Load the processor\n",
        "processor = TrOCRProcessor.from_pretrained(output_dir)\n",
        "\n",
        "print(\"Model and processor successfully loaded.\")\n"
      ],
      "metadata": {
        "id": "5MUFo4B_0efa"
      },
      "execution_count": null,
      "outputs": []
    }
  ]
}